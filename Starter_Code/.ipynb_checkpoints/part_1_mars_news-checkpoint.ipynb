{
 "cells": [
  {
   "cell_type": "markdown",
   "metadata": {},
   "source": [
    "# Module 12 Challenge\n",
    "## Deliverable 1: Scrape Titles and Preview Text from Mars News"
   ]
  },
  {
   "cell_type": "code",
   "execution_count": 9,
   "metadata": {},
   "outputs": [],
   "source": [
    "# Import Splinter and BeautifulSoup\n",
    "from splinter import Browser\n",
    "from bs4 import BeautifulSoup as soup\n",
    "from webdriver_manager.chrome import ChromeDriverManager"
   ]
  },
  {
   "cell_type": "code",
   "execution_count": 10,
   "metadata": {
    "scrolled": true
   },
   "outputs": [],
   "source": [
    "executable_path = {'executable_path': ChromeDriverManager().install()}\n",
    "browser = Browser('chrome', **executable_path, headless=False)"
   ]
  },
  {
   "cell_type": "markdown",
   "metadata": {},
   "source": [
    "### Step 1: Visit the Website\n",
    "\n",
    "1. Use automated browsing to visit the [Mars NASA news site](https://redplanetscience.com). Inspect the page to identify which elements to scrape.\n",
    "\n",
    "      > **Hint** To identify which elements to scrape, you might want to inspect the page by using Chrome DevTools."
   ]
  },
  {
   "cell_type": "code",
   "execution_count": 11,
   "metadata": {},
   "outputs": [],
   "source": [
    "# Visit the Mars NASA news site: https://redplanetscience.com\n",
    "url = 'https://redplanetscience.com'\n",
    "browser.visit(url)"
   ]
  },
  {
   "cell_type": "markdown",
   "metadata": {},
   "source": [
    "### Step 2: Scrape the Website\n",
    "\n",
    "Create a Beautiful Soup object and use it to extract text elements from the website."
   ]
  },
  {
   "cell_type": "code",
   "execution_count": 12,
   "metadata": {},
   "outputs": [],
   "source": [
    "# Create a Beautiful Soup object\n",
    "html = browser.html\n",
    "html_soup = soup(html, 'html.parser')"
   ]
  },
  {
   "cell_type": "code",
   "execution_count": 26,
   "metadata": {},
   "outputs": [
    {
     "name": "stdout",
     "output_type": "stream",
     "text": [
      "[<div class=\"list_text\">\n",
      "<div class=\"list_date\">March 29, 2023</div>\n",
      "<div class=\"content_title\">Three New Views of Mars' Moon Phobos</div>\n",
      "<div class=\"article_teaser_body\">Taken with the infrared camera aboard NASA's Odyssey orbiter, they reveal temperature variations on the small moon as it drifts into and out of Mars’ shadow.</div>\n",
      "</div>, <div class=\"list_text\">\n",
      "<div class=\"list_date\">March 28, 2023</div>\n",
      "<div class=\"content_title\">Mars 2020 Stands on Its Own Six Wheels</div>\n",
      "<div class=\"article_teaser_body\">In time-lapse video, taken at JPL, captures the first time NASA's Mars 2020 rover carries its full weight on its legs and wheels.</div>\n",
      "</div>, <div class=\"list_text\">\n",
      "<div class=\"list_date\">March 28, 2023</div>\n",
      "<div class=\"content_title\">NASA's Mars Helicopter Attached to Mars 2020 Rover </div>\n",
      "<div class=\"article_teaser_body\">The helicopter will be first aircraft to perform flight tests on another planet.</div>\n",
      "</div>, <div class=\"list_text\">\n",
      "<div class=\"list_date\">March 26, 2023</div>\n",
      "<div class=\"content_title\">MOXIE Could Help Future Rockets Launch Off Mars</div>\n",
      "<div class=\"article_teaser_body\">NASA's Perseverance rover carries a device to convert Martian air into oxygen that, if produced on a larger scale, could be used not just for breathing, but also for fuel.</div>\n",
      "</div>, <div class=\"list_text\">\n",
      "<div class=\"list_date\">March 24, 2023</div>\n",
      "<div class=\"content_title\">Alabama High School Student Names NASA's Mars Helicopter</div>\n",
      "<div class=\"article_teaser_body\">Vaneeza Rupani's essay was chosen as the name for the small spacecraft, which will mark NASA's first attempt at powered flight on another planet.</div>\n",
      "</div>, <div class=\"list_text\">\n",
      "<div class=\"list_date\">March 24, 2023</div>\n",
      "<div class=\"content_title\">NASA's Curiosity Mars Rover Takes a New Selfie Before Record Climb</div>\n",
      "<div class=\"article_teaser_body\">Along with capturing an image before its steepest ascent ever, the robotic explorer filmed its \"selfie stick,\" or robotic arm, in action.</div>\n",
      "</div>, <div class=\"list_text\">\n",
      "<div class=\"list_date\">March 22, 2023</div>\n",
      "<div class=\"content_title\">Space History Is Made in This NASA Robot Factory</div>\n",
      "<div class=\"article_teaser_body\">From rockets to rovers, JPL's Spacecraft Assembly Facility has been at the center of robotic spaceflight. Here's a closer look at what makes it so special.</div>\n",
      "</div>, <div class=\"list_text\">\n",
      "<div class=\"list_date\">March 17, 2023</div>\n",
      "<div class=\"content_title\">InSight's 'Mole' Team Peers into the Pit</div>\n",
      "<div class=\"article_teaser_body\">Efforts to save the heat probe continue.</div>\n",
      "</div>, <div class=\"list_text\">\n",
      "<div class=\"list_date\">March 16, 2023</div>\n",
      "<div class=\"content_title\">Virginia Middle School Student Earns Honor of Naming NASA's Next Mars Rover</div>\n",
      "<div class=\"article_teaser_body\">NASA chose a seventh-grader from Virginia as winner of the agency's \"Name the Rover\" essay contest. Alexander Mather's entry for \"Perseverance\" was voted tops among 28,000 entries. </div>\n",
      "</div>, <div class=\"list_text\">\n",
      "<div class=\"list_date\">March 15, 2023</div>\n",
      "<div class=\"content_title\">NASA Wins Two Emmy Awards for Interactive Mission Coverage</div>\n",
      "<div class=\"article_teaser_body\">NASA-JPL's coverage of the Mars InSight landing earns one of the two wins, making this the NASA center's second Emmy.</div>\n",
      "</div>, <div class=\"list_text\">\n",
      "<div class=\"list_date\">March 11, 2023</div>\n",
      "<div class=\"content_title\">The Detective Aboard NASA's Perseverance Rover</div>\n",
      "<div class=\"article_teaser_body\">An instrument called SHERLOC will, with the help of its partner WATSON, hunt for signs of ancient life by detecting organic molecules and minerals.</div>\n",
      "</div>, <div class=\"list_text\">\n",
      "<div class=\"list_date\">March 9, 2023</div>\n",
      "<div class=\"content_title\">NASA Administrator Statement on Moon to Mars Initiative, FY 2021 Budget</div>\n",
      "<div class=\"article_teaser_body\">Jim Bridenstine addresses NASA's ambitious plans for the coming years, including Mars Sample Return.</div>\n",
      "</div>, <div class=\"list_text\">\n",
      "<div class=\"list_date\">March 7, 2023</div>\n",
      "<div class=\"content_title\">With Mars Methane Mystery Unsolved, Curiosity Serves Scientists a New One: Oxygen</div>\n",
      "<div class=\"article_teaser_body\">For the first time in the history of space exploration, scientists have measured the seasonal changes in the gases that fill the air directly above the surface of Gale Crater on Mars. </div>\n",
      "</div>, <div class=\"list_text\">\n",
      "<div class=\"list_date\">March 6, 2023</div>\n",
      "<div class=\"content_title\">How NASA's Mars Helicopter Will Reach the Red Planet's Surface</div>\n",
      "<div class=\"article_teaser_body\">The small craft will seek to prove that powered, controlled flight is possible on another planet. But just getting it onto the surface of Mars will take a whole lot of ingenuity.</div>\n",
      "</div>, <div class=\"list_text\">\n",
      "<div class=\"list_date\">March 4, 2023</div>\n",
      "<div class=\"content_title\">NASA to Reveal Name of Its Next Mars Rover</div>\n",
      "<div class=\"article_teaser_body\">After a months-long contest among students to name NASA's newest Mars rover, the agency will reveal the winning name — and the winning student — this Thursday. </div>\n",
      "</div>]\n"
     ]
    }
   ],
   "source": [
    "# Extract all the text elements\n",
    "mars_text = html_soup.find_all('div', class_=\"list_text\")\n",
    "print(mars_text)"
   ]
  },
  {
   "cell_type": "markdown",
   "metadata": {},
   "source": [
    "### Step 3: Store the Results\n",
    "\n",
    "Extract the titles and preview text of the news articles that you scraped. Store the scraping results in Python data structures as follows:\n",
    "\n",
    "* Store each title-and-preview pair in a Python dictionary. And, give each dictionary two keys: `title` and `preview`. An example is the following:\n",
    "\n",
    "  ```python\n",
    "  {'title': \"Mars Rover Begins Mission!\", \n",
    "        'preview': \"NASA's Mars Rover begins a multiyear mission to collect data about the little-explored planet.\"}\n",
    "  ```\n",
    "\n",
    "* Store all the dictionaries in a Python list.\n",
    "\n",
    "* Print the list in your notebook."
   ]
  },
  {
   "cell_type": "code",
   "execution_count": 27,
   "metadata": {},
   "outputs": [],
   "source": [
    "# Create an empty list to store the dictionaries\n",
    "mars_news_list = []"
   ]
  },
  {
   "cell_type": "code",
   "execution_count": 30,
   "metadata": {},
   "outputs": [],
   "source": [
    "# Loop through the text elements\n",
    "for mars_news in mars_text:\n",
    "# Extract the title and preview text from the elements\n",
    "    title = mars_news.find(\"div\", class_=\"content_title\").text\n",
    "    preview = mars_news.find(\"div\", class_=\"article_teaser_body\").text\n",
    "# Store each title and preview pair in a dictionary\n",
    "    mars_news_dict = {}\n",
    "    mars_news_dict[\"title\"] = title\n",
    "    mars_news_dict[\"preview\"] = preview\n",
    "    \n",
    "# Add the dictionary to the list\n",
    "    mars_news_list.append(mars_news_dict)"
   ]
  },
  {
   "cell_type": "code",
   "execution_count": 31,
   "metadata": {},
   "outputs": [
    {
     "data": {
      "text/plain": [
       "[{'title': 'NASA to Reveal Name of Its Next Mars Rover',\n",
       "  'preview': \"After a months-long contest among students to name NASA's newest Mars rover, the agency will reveal the winning name — and the winning student — this Thursday. \"},\n",
       " {'title': \"Three New Views of Mars' Moon Phobos\",\n",
       "  'preview': \"Taken with the infrared camera aboard NASA's Odyssey orbiter, they reveal temperature variations on the small moon as it drifts into and out of Mars’ shadow.\"},\n",
       " {'title': 'Mars 2020 Stands on Its Own Six Wheels',\n",
       "  'preview': \"In time-lapse video, taken at JPL, captures the first time NASA's Mars 2020 rover carries its full weight on its legs and wheels.\"},\n",
       " {'title': \"NASA's Mars Helicopter Attached to Mars 2020 Rover \",\n",
       "  'preview': 'The helicopter will be first aircraft to perform flight tests on another planet.'},\n",
       " {'title': 'MOXIE Could Help Future Rockets Launch Off Mars',\n",
       "  'preview': \"NASA's Perseverance rover carries a device to convert Martian air into oxygen that, if produced on a larger scale, could be used not just for breathing, but also for fuel.\"},\n",
       " {'title': \"Alabama High School Student Names NASA's Mars Helicopter\",\n",
       "  'preview': \"Vaneeza Rupani's essay was chosen as the name for the small spacecraft, which will mark NASA's first attempt at powered flight on another planet.\"},\n",
       " {'title': \"NASA's Curiosity Mars Rover Takes a New Selfie Before Record Climb\",\n",
       "  'preview': 'Along with capturing an image before its steepest ascent ever, the robotic explorer filmed its \"selfie stick,\" or robotic arm, in action.'},\n",
       " {'title': 'Space History Is Made in This NASA Robot Factory',\n",
       "  'preview': \"From rockets to rovers, JPL's Spacecraft Assembly Facility has been at the center of robotic spaceflight. Here's a closer look at what makes it so special.\"},\n",
       " {'title': \"InSight's 'Mole' Team Peers into the Pit\",\n",
       "  'preview': 'Efforts to save the heat probe continue.'},\n",
       " {'title': \"Virginia Middle School Student Earns Honor of Naming NASA's Next Mars Rover\",\n",
       "  'preview': 'NASA chose a seventh-grader from Virginia as winner of the agency\\'s \"Name the Rover\" essay contest. Alexander Mather\\'s entry for \"Perseverance\" was voted tops among 28,000 entries. '},\n",
       " {'title': 'NASA Wins Two Emmy Awards for Interactive Mission Coverage',\n",
       "  'preview': \"NASA-JPL's coverage of the Mars InSight landing earns one of the two wins, making this the NASA center's second Emmy.\"},\n",
       " {'title': \"The Detective Aboard NASA's Perseverance Rover\",\n",
       "  'preview': 'An instrument called SHERLOC will, with the help of its partner WATSON, hunt for signs of ancient life by detecting organic molecules and minerals.'},\n",
       " {'title': 'NASA Administrator Statement on Moon to Mars Initiative, FY 2021 Budget',\n",
       "  'preview': \"Jim Bridenstine addresses NASA's ambitious plans for the coming years, including Mars Sample Return.\"},\n",
       " {'title': 'With Mars Methane Mystery Unsolved, Curiosity Serves Scientists a New One: Oxygen',\n",
       "  'preview': 'For the first time in the history of space exploration, scientists have measured the seasonal changes in the gases that fill the air directly above the surface of Gale Crater on Mars. '},\n",
       " {'title': \"How NASA's Mars Helicopter Will Reach the Red Planet's Surface\",\n",
       "  'preview': 'The small craft will seek to prove that powered, controlled flight is possible on another planet. But just getting it onto the surface of Mars will take a whole lot of ingenuity.'},\n",
       " {'title': 'NASA to Reveal Name of Its Next Mars Rover',\n",
       "  'preview': \"After a months-long contest among students to name NASA's newest Mars rover, the agency will reveal the winning name — and the winning student — this Thursday. \"}]"
      ]
     },
     "execution_count": 31,
     "metadata": {},
     "output_type": "execute_result"
    }
   ],
   "source": [
    "# Print the list to confirm success\n",
    "mars_news_list"
   ]
  },
  {
   "cell_type": "code",
   "execution_count": 32,
   "metadata": {},
   "outputs": [],
   "source": [
    "browser.quit()"
   ]
  },
  {
   "cell_type": "markdown",
   "metadata": {},
   "source": [
    "### (Optional) Step 4: Export the Data\n",
    "\n",
    "Optionally, store the scraped data in a file or database (to ease sharing the data with others). To do so, export the scraped data to either a JSON file or a MongoDB database."
   ]
  },
  {
   "cell_type": "code",
   "execution_count": 34,
   "metadata": {},
   "outputs": [],
   "source": [
    "# Export data to JSON\n",
    "import json\n",
    "mars_news_list_file=json.dumps(mars_news_list)"
   ]
  },
  {
   "cell_type": "code",
   "execution_count": null,
   "metadata": {},
   "outputs": [],
   "source": [
    "# Export data to MongoDB\n"
   ]
  }
 ],
 "metadata": {
  "kernelspec": {
   "display_name": "Python 3 (ipykernel)",
   "language": "python",
   "name": "python3"
  },
  "language_info": {
   "codemirror_mode": {
    "name": "ipython",
    "version": 3
   },
   "file_extension": ".py",
   "mimetype": "text/x-python",
   "name": "python",
   "nbconvert_exporter": "python",
   "pygments_lexer": "ipython3",
   "version": "3.9.13"
  }
 },
 "nbformat": 4,
 "nbformat_minor": 4
}
